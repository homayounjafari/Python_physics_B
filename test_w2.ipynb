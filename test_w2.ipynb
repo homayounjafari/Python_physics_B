{
  "cells": [
    {
      "cell_type": "markdown",
      "metadata": {
        "id": "hSXsCkclbiAj"
      },
      "source": [
        "## Introduction to Python Exercises\n",
        "\n",
        "\n",
        "**Save your working file in Google drive so that all changes will be saved as you work. MAKE SURE that your final version is saved to GitHub.**\n",
        "\n",
        "Before you turn this in, make sure everything runs as expected. First, restart the kernel (in the menu, select Kernel → Restart) and then run all cells (in the menubar, select Cell → Run All).  You can speak with others regarding the assignment but all work must be your own.\n",
        "\n",
        "\n",
        "### This is a test assignment.\n",
        "\n",
        "**You may find it useful to go through the notebooks from the course materials when doing these exercises.**\n",
        "\n",
        "**If you attempt to fake passing the tests you will receive a 0 on the assignment and it will be considered an ethical violation.**\n"
      ]
    },
    {
      "cell_type": "code",
      "execution_count": 1,
      "metadata": {
        "colab": {
          "base_uri": "https://localhost:8080/"
        },
        "id": "8TCzCgMRbiAk",
        "outputId": "0848ba52-1714-4b7e-f32c-a66e0fed46d3"
      },
      "outputs": [
        {
          "name": "stdout",
          "output_type": "stream",
          "text": [
            "Requirement already satisfied: otter-grader in /Users/homayounjafari/Documents/miniforge3/lib/python3.10/site-packages (5.2.2)\n",
            "Requirement already satisfied: dill in /Users/homayounjafari/Documents/miniforge3/lib/python3.10/site-packages (from otter-grader) (0.3.7)\n",
            "Requirement already satisfied: jinja2 in /Users/homayounjafari/Documents/miniforge3/lib/python3.10/site-packages (from otter-grader) (3.1.2)\n",
            "Requirement already satisfied: nbformat in /Users/homayounjafari/Documents/miniforge3/lib/python3.10/site-packages (from otter-grader) (5.9.2)\n",
            "Requirement already satisfied: pandas in /Users/homayounjafari/Documents/miniforge3/lib/python3.10/site-packages (from otter-grader) (2.1.1)\n",
            "Requirement already satisfied: PyYAML in /Users/homayounjafari/Documents/miniforge3/lib/python3.10/site-packages (from otter-grader) (6.0.1)\n",
            "Requirement already satisfied: python-on-whales in /Users/homayounjafari/Documents/miniforge3/lib/python3.10/site-packages (from otter-grader) (0.68.0)\n",
            "Requirement already satisfied: requests in /Users/homayounjafari/Documents/miniforge3/lib/python3.10/site-packages (from otter-grader) (2.31.0)\n",
            "Requirement already satisfied: wrapt in /Users/homayounjafari/Documents/miniforge3/lib/python3.10/site-packages (from otter-grader) (1.14.1)\n",
            "Requirement already satisfied: jupytext in /Users/homayounjafari/Documents/miniforge3/lib/python3.10/site-packages (from otter-grader) (1.16.0)\n",
            "Requirement already satisfied: click in /Users/homayounjafari/Documents/miniforge3/lib/python3.10/site-packages (from otter-grader) (8.1.7)\n",
            "Requirement already satisfied: fica>=0.3.0 in /Users/homayounjafari/Documents/miniforge3/lib/python3.10/site-packages (from otter-grader) (0.3.1)\n",
            "Requirement already satisfied: ipython in /Users/homayounjafari/Documents/miniforge3/lib/python3.10/site-packages (from otter-grader) (8.16.1)\n",
            "Requirement already satisfied: astunparse in /Users/homayounjafari/Documents/miniforge3/lib/python3.10/site-packages (from otter-grader) (1.6.3)\n",
            "Requirement already satisfied: ipywidgets in /Users/homayounjafari/Documents/miniforge3/lib/python3.10/site-packages (from otter-grader) (8.1.1)\n",
            "Requirement already satisfied: ipylab in /Users/homayounjafari/Documents/miniforge3/lib/python3.10/site-packages (from otter-grader) (1.0.0)\n",
            "Requirement already satisfied: nbconvert in /Users/homayounjafari/Documents/miniforge3/lib/python3.10/site-packages (from otter-grader) (7.13.1)\n",
            "Requirement already satisfied: docutils in /Users/homayounjafari/Documents/miniforge3/lib/python3.10/site-packages (from fica>=0.3.0->otter-grader) (0.20.1)\n",
            "Requirement already satisfied: sphinx in /Users/homayounjafari/Documents/miniforge3/lib/python3.10/site-packages (from fica>=0.3.0->otter-grader) (7.2.6)\n",
            "Requirement already satisfied: wheel<1.0,>=0.23.0 in /Users/homayounjafari/Documents/miniforge3/lib/python3.10/site-packages (from astunparse->otter-grader) (0.41.2)\n",
            "Requirement already satisfied: six<2.0,>=1.6.1 in /Users/homayounjafari/Documents/miniforge3/lib/python3.10/site-packages (from astunparse->otter-grader) (1.16.0)\n",
            "Requirement already satisfied: comm>=0.1.3 in /Users/homayounjafari/Documents/miniforge3/lib/python3.10/site-packages (from ipywidgets->otter-grader) (0.1.4)\n",
            "Requirement already satisfied: traitlets>=4.3.1 in /Users/homayounjafari/Documents/miniforge3/lib/python3.10/site-packages (from ipywidgets->otter-grader) (5.11.2)\n",
            "Requirement already satisfied: widgetsnbextension~=4.0.9 in /Users/homayounjafari/Documents/miniforge3/lib/python3.10/site-packages (from ipywidgets->otter-grader) (4.0.9)\n",
            "Requirement already satisfied: jupyterlab-widgets~=3.0.9 in /Users/homayounjafari/Documents/miniforge3/lib/python3.10/site-packages (from ipywidgets->otter-grader) (3.0.9)\n",
            "Requirement already satisfied: backcall in /Users/homayounjafari/Documents/miniforge3/lib/python3.10/site-packages (from ipython->otter-grader) (0.2.0)\n",
            "Requirement already satisfied: decorator in /Users/homayounjafari/Documents/miniforge3/lib/python3.10/site-packages (from ipython->otter-grader) (5.1.1)\n",
            "Requirement already satisfied: jedi>=0.16 in /Users/homayounjafari/Documents/miniforge3/lib/python3.10/site-packages (from ipython->otter-grader) (0.19.1)\n",
            "Requirement already satisfied: matplotlib-inline in /Users/homayounjafari/Documents/miniforge3/lib/python3.10/site-packages (from ipython->otter-grader) (0.1.6)\n",
            "Requirement already satisfied: pickleshare in /Users/homayounjafari/Documents/miniforge3/lib/python3.10/site-packages (from ipython->otter-grader) (0.7.5)\n",
            "Requirement already satisfied: prompt-toolkit!=3.0.37,<3.1.0,>=3.0.30 in /Users/homayounjafari/Documents/miniforge3/lib/python3.10/site-packages (from ipython->otter-grader) (3.0.39)\n",
            "Requirement already satisfied: pygments>=2.4.0 in /Users/homayounjafari/Documents/miniforge3/lib/python3.10/site-packages (from ipython->otter-grader) (2.16.1)\n",
            "Requirement already satisfied: stack-data in /Users/homayounjafari/Documents/miniforge3/lib/python3.10/site-packages (from ipython->otter-grader) (0.6.2)\n",
            "Requirement already satisfied: exceptiongroup in /Users/homayounjafari/Documents/miniforge3/lib/python3.10/site-packages (from ipython->otter-grader) (1.1.3)\n",
            "Requirement already satisfied: pexpect>4.3 in /Users/homayounjafari/Documents/miniforge3/lib/python3.10/site-packages (from ipython->otter-grader) (4.8.0)\n",
            "Requirement already satisfied: appnope in /Users/homayounjafari/Documents/miniforge3/lib/python3.10/site-packages (from ipython->otter-grader) (0.1.3)\n",
            "Requirement already satisfied: MarkupSafe>=2.0 in /Users/homayounjafari/Documents/miniforge3/lib/python3.10/site-packages (from jinja2->otter-grader) (2.1.3)\n",
            "Requirement already satisfied: markdown-it-py>=1.0.0 in /Users/homayounjafari/Documents/miniforge3/lib/python3.10/site-packages (from jupytext->otter-grader) (3.0.0)\n",
            "Requirement already satisfied: mdit-py-plugins in /Users/homayounjafari/Documents/miniforge3/lib/python3.10/site-packages (from jupytext->otter-grader) (0.4.0)\n",
            "Requirement already satisfied: packaging in /Users/homayounjafari/Documents/miniforge3/lib/python3.10/site-packages (from jupytext->otter-grader) (23.1)\n",
            "Requirement already satisfied: toml in /Users/homayounjafari/Documents/miniforge3/lib/python3.10/site-packages (from jupytext->otter-grader) (0.10.2)\n",
            "Requirement already satisfied: beautifulsoup4 in /Users/homayounjafari/Documents/miniforge3/lib/python3.10/site-packages (from nbconvert->otter-grader) (4.12.2)\n",
            "Requirement already satisfied: bleach!=5.0.0 in /Users/homayounjafari/Documents/miniforge3/lib/python3.10/site-packages (from nbconvert->otter-grader) (6.1.0)\n",
            "Requirement already satisfied: defusedxml in /Users/homayounjafari/Documents/miniforge3/lib/python3.10/site-packages (from nbconvert->otter-grader) (0.7.1)\n",
            "Requirement already satisfied: jupyter-core>=4.7 in /Users/homayounjafari/Documents/miniforge3/lib/python3.10/site-packages (from nbconvert->otter-grader) (5.4.0)\n",
            "Requirement already satisfied: jupyterlab-pygments in /Users/homayounjafari/Documents/miniforge3/lib/python3.10/site-packages (from nbconvert->otter-grader) (0.3.0)\n",
            "Requirement already satisfied: mistune<4,>=2.0.3 in /Users/homayounjafari/Documents/miniforge3/lib/python3.10/site-packages (from nbconvert->otter-grader) (3.0.2)\n",
            "Requirement already satisfied: nbclient>=0.5.0 in /Users/homayounjafari/Documents/miniforge3/lib/python3.10/site-packages (from nbconvert->otter-grader) (0.9.0)\n",
            "Requirement already satisfied: pandocfilters>=1.4.1 in /Users/homayounjafari/Documents/miniforge3/lib/python3.10/site-packages (from nbconvert->otter-grader) (1.5.0)\n",
            "Requirement already satisfied: tinycss2 in /Users/homayounjafari/Documents/miniforge3/lib/python3.10/site-packages (from nbconvert->otter-grader) (1.2.1)\n",
            "Requirement already satisfied: fastjsonschema in /Users/homayounjafari/Documents/miniforge3/lib/python3.10/site-packages (from nbformat->otter-grader) (2.19.0)\n",
            "Requirement already satisfied: jsonschema>=2.6 in /Users/homayounjafari/Documents/miniforge3/lib/python3.10/site-packages (from nbformat->otter-grader) (4.20.0)\n",
            "Requirement already satisfied: numpy>=1.22.4 in /Users/homayounjafari/Documents/miniforge3/lib/python3.10/site-packages (from pandas->otter-grader) (1.26.0)\n",
            "Requirement already satisfied: python-dateutil>=2.8.2 in /Users/homayounjafari/Documents/miniforge3/lib/python3.10/site-packages (from pandas->otter-grader) (2.8.2)\n",
            "Requirement already satisfied: pytz>=2020.1 in /Users/homayounjafari/Documents/miniforge3/lib/python3.10/site-packages (from pandas->otter-grader) (2023.3.post1)\n",
            "Requirement already satisfied: tzdata>=2022.1 in /Users/homayounjafari/Documents/miniforge3/lib/python3.10/site-packages (from pandas->otter-grader) (2023.3)\n",
            "Requirement already satisfied: pydantic!=2.0.*,<3,>=1.9 in /Users/homayounjafari/Documents/miniforge3/lib/python3.10/site-packages (from python-on-whales->otter-grader) (2.5.3)\n",
            "Requirement already satisfied: tqdm in /Users/homayounjafari/Documents/miniforge3/lib/python3.10/site-packages (from python-on-whales->otter-grader) (4.66.1)\n",
            "Requirement already satisfied: typer>=0.4.1 in /Users/homayounjafari/Documents/miniforge3/lib/python3.10/site-packages (from python-on-whales->otter-grader) (0.9.0)\n",
            "Requirement already satisfied: typing-extensions in /Users/homayounjafari/Documents/miniforge3/lib/python3.10/site-packages (from python-on-whales->otter-grader) (4.8.0)\n",
            "Requirement already satisfied: charset-normalizer<4,>=2 in /Users/homayounjafari/Documents/miniforge3/lib/python3.10/site-packages (from requests->otter-grader) (3.2.0)\n",
            "Requirement already satisfied: idna<4,>=2.5 in /Users/homayounjafari/Documents/miniforge3/lib/python3.10/site-packages (from requests->otter-grader) (3.4)\n",
            "Requirement already satisfied: urllib3<3,>=1.21.1 in /Users/homayounjafari/Documents/miniforge3/lib/python3.10/site-packages (from requests->otter-grader) (2.0.4)\n",
            "Requirement already satisfied: certifi>=2017.4.17 in /Users/homayounjafari/Documents/miniforge3/lib/python3.10/site-packages (from requests->otter-grader) (2023.7.22)\n",
            "Requirement already satisfied: webencodings in /Users/homayounjafari/Documents/miniforge3/lib/python3.10/site-packages (from bleach!=5.0.0->nbconvert->otter-grader) (0.5.1)\n",
            "Requirement already satisfied: parso<0.9.0,>=0.8.3 in /Users/homayounjafari/Documents/miniforge3/lib/python3.10/site-packages (from jedi>=0.16->ipython->otter-grader) (0.8.3)\n",
            "Requirement already satisfied: attrs>=22.2.0 in /Users/homayounjafari/Documents/miniforge3/lib/python3.10/site-packages (from jsonschema>=2.6->nbformat->otter-grader) (23.1.0)\n",
            "Requirement already satisfied: jsonschema-specifications>=2023.03.6 in /Users/homayounjafari/Documents/miniforge3/lib/python3.10/site-packages (from jsonschema>=2.6->nbformat->otter-grader) (2023.11.2)\n",
            "Requirement already satisfied: referencing>=0.28.4 in /Users/homayounjafari/Documents/miniforge3/lib/python3.10/site-packages (from jsonschema>=2.6->nbformat->otter-grader) (0.32.0)\n",
            "Requirement already satisfied: rpds-py>=0.7.1 in /Users/homayounjafari/Documents/miniforge3/lib/python3.10/site-packages (from jsonschema>=2.6->nbformat->otter-grader) (0.15.2)\n",
            "Requirement already satisfied: platformdirs>=2.5 in /Users/homayounjafari/Documents/miniforge3/lib/python3.10/site-packages (from jupyter-core>=4.7->nbconvert->otter-grader) (3.11.0)\n",
            "Requirement already satisfied: mdurl~=0.1 in /Users/homayounjafari/Documents/miniforge3/lib/python3.10/site-packages (from markdown-it-py>=1.0.0->jupytext->otter-grader) (0.1.2)\n",
            "Requirement already satisfied: jupyter-client>=6.1.12 in /Users/homayounjafari/Documents/miniforge3/lib/python3.10/site-packages (from nbclient>=0.5.0->nbconvert->otter-grader) (8.3.1)\n",
            "Requirement already satisfied: ptyprocess>=0.5 in /Users/homayounjafari/Documents/miniforge3/lib/python3.10/site-packages (from pexpect>4.3->ipython->otter-grader) (0.7.0)\n",
            "Requirement already satisfied: wcwidth in /Users/homayounjafari/Documents/miniforge3/lib/python3.10/site-packages (from prompt-toolkit!=3.0.37,<3.1.0,>=3.0.30->ipython->otter-grader) (0.2.8)\n",
            "Requirement already satisfied: annotated-types>=0.4.0 in /Users/homayounjafari/Documents/miniforge3/lib/python3.10/site-packages (from pydantic!=2.0.*,<3,>=1.9->python-on-whales->otter-grader) (0.6.0)\n",
            "Requirement already satisfied: pydantic-core==2.14.6 in /Users/homayounjafari/Documents/miniforge3/lib/python3.10/site-packages (from pydantic!=2.0.*,<3,>=1.9->python-on-whales->otter-grader) (2.14.6)\n",
            "Requirement already satisfied: soupsieve>1.2 in /Users/homayounjafari/Documents/miniforge3/lib/python3.10/site-packages (from beautifulsoup4->nbconvert->otter-grader) (2.5)\n",
            "Requirement already satisfied: sphinxcontrib-applehelp in /Users/homayounjafari/Documents/miniforge3/lib/python3.10/site-packages (from sphinx->fica>=0.3.0->otter-grader) (1.0.7)\n",
            "Requirement already satisfied: sphinxcontrib-devhelp in /Users/homayounjafari/Documents/miniforge3/lib/python3.10/site-packages (from sphinx->fica>=0.3.0->otter-grader) (1.0.5)\n",
            "Requirement already satisfied: sphinxcontrib-jsmath in /Users/homayounjafari/Documents/miniforge3/lib/python3.10/site-packages (from sphinx->fica>=0.3.0->otter-grader) (1.0.1)\n",
            "Requirement already satisfied: sphinxcontrib-htmlhelp>=2.0.0 in /Users/homayounjafari/Documents/miniforge3/lib/python3.10/site-packages (from sphinx->fica>=0.3.0->otter-grader) (2.0.4)\n",
            "Requirement already satisfied: sphinxcontrib-serializinghtml>=1.1.9 in /Users/homayounjafari/Documents/miniforge3/lib/python3.10/site-packages (from sphinx->fica>=0.3.0->otter-grader) (1.1.9)\n",
            "Requirement already satisfied: sphinxcontrib-qthelp in /Users/homayounjafari/Documents/miniforge3/lib/python3.10/site-packages (from sphinx->fica>=0.3.0->otter-grader) (1.0.6)\n",
            "Requirement already satisfied: snowballstemmer>=2.0 in /Users/homayounjafari/Documents/miniforge3/lib/python3.10/site-packages (from sphinx->fica>=0.3.0->otter-grader) (2.2.0)\n",
            "Requirement already satisfied: babel>=2.9 in /Users/homayounjafari/Documents/miniforge3/lib/python3.10/site-packages (from sphinx->fica>=0.3.0->otter-grader) (2.14.0)\n",
            "Requirement already satisfied: alabaster<0.8,>=0.7 in /Users/homayounjafari/Documents/miniforge3/lib/python3.10/site-packages (from sphinx->fica>=0.3.0->otter-grader) (0.7.13)\n",
            "Requirement already satisfied: imagesize>=1.3 in /Users/homayounjafari/Documents/miniforge3/lib/python3.10/site-packages (from sphinx->fica>=0.3.0->otter-grader) (1.4.1)\n",
            "Requirement already satisfied: executing>=1.2.0 in /Users/homayounjafari/Documents/miniforge3/lib/python3.10/site-packages (from stack-data->ipython->otter-grader) (1.2.0)\n",
            "Requirement already satisfied: asttokens>=2.1.0 in /Users/homayounjafari/Documents/miniforge3/lib/python3.10/site-packages (from stack-data->ipython->otter-grader) (2.4.0)\n",
            "Requirement already satisfied: pure-eval in /Users/homayounjafari/Documents/miniforge3/lib/python3.10/site-packages (from stack-data->ipython->otter-grader) (0.2.2)\n",
            "Requirement already satisfied: pyzmq>=23.0 in /Users/homayounjafari/Documents/miniforge3/lib/python3.10/site-packages (from jupyter-client>=6.1.12->nbclient>=0.5.0->nbconvert->otter-grader) (25.1.1)\n",
            "Requirement already satisfied: tornado>=6.2 in /Users/homayounjafari/Documents/miniforge3/lib/python3.10/site-packages (from jupyter-client>=6.1.12->nbclient>=0.5.0->nbconvert->otter-grader) (6.3.3)\n",
            "Note: you may need to restart the kernel to use updated packages.\n"
          ]
        }
      ],
      "source": [
        "%pip install otter-grader"
      ]
    },
    {
      "cell_type": "code",
      "execution_count": 2,
      "metadata": {},
      "outputs": [
        {
          "name": "stdout",
          "output_type": "stream",
          "text": [
            "Requirement already satisfied: wget in /Users/homayounjafari/Documents/miniforge3/lib/python3.10/site-packages (3.2)\n",
            "Note: you may need to restart the kernel to use updated packages.\n"
          ]
        }
      ],
      "source": [
        "%pip install wget"
      ]
    },
    {
      "cell_type": "code",
      "execution_count": 3,
      "metadata": {},
      "outputs": [],
      "source": [
        "import wget\n",
        "# !python -m wget $files && unzip -o files.zip"
      ]
    },
    {
      "cell_type": "code",
      "execution_count": 4,
      "metadata": {
        "id": "moTUYN9VbiAm"
      },
      "outputs": [],
      "source": [
        "#Run this. It initiates autograding.\n",
        "import otter\n",
        "grader = otter.Notebook()"
      ]
    },
    {
      "cell_type": "markdown",
      "metadata": {
        "id": "mAC6v0SQbiAp"
      },
      "source": [
        "## Exercises - For and If and Functions\n",
        "\n",
        "(1). Use a for-loop to approximate the infinite sum:\n",
        "$$\\sum_{x=0}^{\\infty} \\frac{1}{4x^2 - 1}$$\n",
        "Truncate the sum after the 100th term\n"
      ]
    },
    {
      "cell_type": "code",
      "execution_count": 5,
      "metadata": {},
      "outputs": [
        {
          "name": "stdout",
          "output_type": "stream",
          "text": [
            "-0.5\n"
          ]
        }
      ],
      "source": [
        "total = 0\n",
        "for x in range(101):\n",
        "  total = total + (1/((4*(x**2))-1))\n",
        "print(round(total,2))"
      ]
    },
    {
      "cell_type": "code",
      "execution_count": 7,
      "metadata": {
        "colab": {
          "base_uri": "https://localhost:8080/",
          "height": 346
        },
        "id": "ZyGkeyIabiAs",
        "outputId": "c7901407-cb80-4182-b7c1-8b3f41996ad7"
      },
      "outputs": [
        {
          "ename": "ValueError",
          "evalue": "Test sol_w02 not found",
          "output_type": "error",
          "traceback": [
            "\u001b[0;31m---------------------------------------------------------------------------\u001b[0m",
            "\u001b[0;31mValueError\u001b[0m                                Traceback (most recent call last)",
            "Cell \u001b[0;32mIn[7], line 2\u001b[0m\n\u001b[1;32m      1\u001b[0m \u001b[38;5;28msum\u001b[39m\u001b[38;5;241m=\u001b[39m \u001b[38;5;241m-\u001b[39m\u001b[38;5;241m0.5\u001b[39m \u001b[38;5;66;03m#include this code\u001b[39;00m\n\u001b[0;32m----> 2\u001b[0m \u001b[43mgrader\u001b[49m\u001b[38;5;241;43m.\u001b[39;49m\u001b[43mcheck\u001b[49m\u001b[43m(\u001b[49m\u001b[38;5;124;43m'\u001b[39;49m\u001b[38;5;124;43msol_w02\u001b[39;49m\u001b[38;5;124;43m'\u001b[39;49m\u001b[43m)\u001b[49m\n",
            "File \u001b[0;32m~/Documents/miniforge3/lib/python3.10/site-packages/otter/check/utils.py:217\u001b[0m, in \u001b[0;36mlogs_event.<locals>.event_logger\u001b[0;34m(wrapped, self, args, kwargs)\u001b[0m\n\u001b[1;32m    215\u001b[0m \u001b[38;5;28;01mexcept\u001b[39;00m \u001b[38;5;167;01mException\u001b[39;00m \u001b[38;5;28;01mas\u001b[39;00m e:\n\u001b[1;32m    216\u001b[0m     \u001b[38;5;28mself\u001b[39m\u001b[38;5;241m.\u001b[39m_log_event(event_type, success\u001b[38;5;241m=\u001b[39m\u001b[38;5;28;01mFalse\u001b[39;00m, error\u001b[38;5;241m=\u001b[39me)\n\u001b[0;32m--> 217\u001b[0m     \u001b[38;5;28;01mraise\u001b[39;00m e\n\u001b[1;32m    219\u001b[0m \u001b[38;5;28;01mif\u001b[39;00m ret \u001b[38;5;129;01mis\u001b[39;00m \u001b[38;5;28;01mNone\u001b[39;00m:\n\u001b[1;32m    220\u001b[0m     ret \u001b[38;5;241m=\u001b[39m LoggedEventReturnValue(\u001b[38;5;28;01mNone\u001b[39;00m)\n",
            "File \u001b[0;32m~/Documents/miniforge3/lib/python3.10/site-packages/otter/check/utils.py:213\u001b[0m, in \u001b[0;36mlogs_event.<locals>.event_logger\u001b[0;34m(wrapped, self, args, kwargs)\u001b[0m\n\u001b[1;32m    208\u001b[0m \u001b[38;5;250m\u001b[39m\u001b[38;5;124;03m\"\"\"\u001b[39;00m\n\u001b[1;32m    209\u001b[0m \u001b[38;5;124;03mRuns a method, catching any errors and logging the call. Returns the unwrapped return value\u001b[39;00m\n\u001b[1;32m    210\u001b[0m \u001b[38;5;124;03mof the wrapped function.\u001b[39;00m\n\u001b[1;32m    211\u001b[0m \u001b[38;5;124;03m\"\"\"\u001b[39;00m\n\u001b[1;32m    212\u001b[0m \u001b[38;5;28;01mtry\u001b[39;00m:\n\u001b[0;32m--> 213\u001b[0m     ret: Optional[LoggedEventReturnValue[T]] \u001b[38;5;241m=\u001b[39m \u001b[43mwrapped\u001b[49m\u001b[43m(\u001b[49m\u001b[38;5;241;43m*\u001b[39;49m\u001b[43margs\u001b[49m\u001b[43m,\u001b[49m\u001b[43m \u001b[49m\u001b[38;5;241;43m*\u001b[39;49m\u001b[38;5;241;43m*\u001b[39;49m\u001b[43mkwargs\u001b[49m\u001b[43m)\u001b[49m\n\u001b[1;32m    215\u001b[0m \u001b[38;5;28;01mexcept\u001b[39;00m \u001b[38;5;167;01mException\u001b[39;00m \u001b[38;5;28;01mas\u001b[39;00m e:\n\u001b[1;32m    216\u001b[0m     \u001b[38;5;28mself\u001b[39m\u001b[38;5;241m.\u001b[39m_log_event(event_type, success\u001b[38;5;241m=\u001b[39m\u001b[38;5;28;01mFalse\u001b[39;00m, error\u001b[38;5;241m=\u001b[39me)\n",
            "File \u001b[0;32m~/Documents/miniforge3/lib/python3.10/site-packages/otter/check/notebook.py:280\u001b[0m, in \u001b[0;36mNotebook.check\u001b[0;34m(self, question, global_env)\u001b[0m\n\u001b[1;32m    278\u001b[0m \u001b[38;5;66;03m# run the check\u001b[39;00m\n\u001b[1;32m    279\u001b[0m \u001b[38;5;28mself\u001b[39m\u001b[38;5;241m.\u001b[39m_logger\u001b[38;5;241m.\u001b[39mdebug(\u001b[38;5;124mf\u001b[39m\u001b[38;5;124m\"\u001b[39m\u001b[38;5;124mCalling checker\u001b[39m\u001b[38;5;124m\"\u001b[39m)\n\u001b[0;32m--> 280\u001b[0m result \u001b[38;5;241m=\u001b[39m \u001b[43mChecker\u001b[49m\u001b[38;5;241;43m.\u001b[39;49m\u001b[43mcheck\u001b[49m\u001b[43m(\u001b[49m\u001b[43mtest_path\u001b[49m\u001b[43m,\u001b[49m\u001b[43m \u001b[49m\u001b[38;5;28;43mself\u001b[39;49m\u001b[38;5;241;43m.\u001b[39;49m\u001b[43m_nbmeta_config\u001b[49m\u001b[43m,\u001b[49m\u001b[43m \u001b[49m\u001b[43mtest_name\u001b[49m\u001b[43m,\u001b[49m\u001b[43m \u001b[49m\u001b[43mglobal_env\u001b[49m\u001b[43m)\u001b[49m\n\u001b[1;32m    282\u001b[0m \u001b[38;5;28;01mreturn\u001b[39;00m LoggedEventReturnValue(result, question\u001b[38;5;241m=\u001b[39mquestion, shelve_env\u001b[38;5;241m=\u001b[39mglobal_env)\n",
            "File \u001b[0;32m~/Documents/miniforge3/lib/python3.10/site-packages/otter/execute/checker.py:77\u001b[0m, in \u001b[0;36mChecker.check\u001b[0;34m(cls, nb_or_test_path, nbmeta_config, test_name, global_env)\u001b[0m\n\u001b[1;32m     55\u001b[0m \u001b[38;5;129m@classmethod\u001b[39m\n\u001b[1;32m     56\u001b[0m \u001b[38;5;28;01mdef\u001b[39;00m \u001b[38;5;21mcheck\u001b[39m(\n\u001b[1;32m     57\u001b[0m     \u001b[38;5;28mcls\u001b[39m,\n\u001b[0;32m   (...)\u001b[0m\n\u001b[1;32m     61\u001b[0m     global_env: Optional[Dict[\u001b[38;5;28mstr\u001b[39m, Any]] \u001b[38;5;241m=\u001b[39m \u001b[38;5;28;01mNone\u001b[39;00m,\n\u001b[1;32m     62\u001b[0m ) \u001b[38;5;241m-\u001b[39m\u001b[38;5;241m>\u001b[39m TestFile:\n\u001b[1;32m     63\u001b[0m \u001b[38;5;250m    \u001b[39m\u001b[38;5;124;03m\"\"\"\u001b[39;00m\n\u001b[1;32m     64\u001b[0m \u001b[38;5;124;03m    Checks a global environment against a test, which may be stored in a file or in a notebook's\u001b[39;00m\n\u001b[1;32m     65\u001b[0m \u001b[38;5;124;03m    metadata.\u001b[39;00m\n\u001b[0;32m   (...)\u001b[0m\n\u001b[1;32m     75\u001b[0m \u001b[38;5;124;03m        given global environment\u001b[39;00m\n\u001b[1;32m     76\u001b[0m \u001b[38;5;124;03m    \"\"\"\u001b[39;00m\n\u001b[0;32m---> 77\u001b[0m     test \u001b[38;5;241m=\u001b[39m \u001b[43mcreate_test_file\u001b[49m\u001b[43m(\u001b[49m\u001b[43mnb_or_test_path\u001b[49m\u001b[43m,\u001b[49m\u001b[43m \u001b[49m\u001b[43mnbmeta_config\u001b[49m\u001b[43m,\u001b[49m\u001b[43m \u001b[49m\u001b[43mtest_name\u001b[49m\u001b[38;5;241;43m=\u001b[39;49m\u001b[43mtest_name\u001b[49m\u001b[43m)\u001b[49m\n\u001b[1;32m     79\u001b[0m     \u001b[38;5;28;01mif\u001b[39;00m global_env \u001b[38;5;129;01mis\u001b[39;00m \u001b[38;5;28;01mNone\u001b[39;00m:\n\u001b[1;32m     80\u001b[0m         global_env \u001b[38;5;241m=\u001b[39m inspect\u001b[38;5;241m.\u001b[39mcurrentframe()\u001b[38;5;241m.\u001b[39mf_back\u001b[38;5;241m.\u001b[39mf_globals\n",
            "File \u001b[0;32m~/Documents/miniforge3/lib/python3.10/site-packages/otter/test_files/__init__.py:62\u001b[0m, in \u001b[0;36mcreate_test_file\u001b[0;34m(path, nbmeta_config, test_name)\u001b[0m\n\u001b[1;32m     59\u001b[0m         \u001b[38;5;28;01mreturn\u001b[39;00m NotebookMetadataOKTestFile\u001b[38;5;241m.\u001b[39mfrom_nbmeta_config(path, nbmeta_config, test_name)\n\u001b[1;32m     61\u001b[0m     \u001b[38;5;28;01melse\u001b[39;00m:\n\u001b[0;32m---> 62\u001b[0m         \u001b[38;5;28;01mreturn\u001b[39;00m \u001b[43mNotebookMetadataExceptionTestFile\u001b[49m\u001b[38;5;241;43m.\u001b[39;49m\u001b[43mfrom_nbmeta_config\u001b[49m\u001b[43m(\u001b[49m\n\u001b[1;32m     63\u001b[0m \u001b[43m            \u001b[49m\u001b[43mpath\u001b[49m\u001b[43m,\u001b[49m\u001b[43m \u001b[49m\u001b[43mnbmeta_config\u001b[49m\u001b[43m,\u001b[49m\u001b[43m \u001b[49m\u001b[43mtest_name\u001b[49m\u001b[43m)\u001b[49m\n\u001b[1;32m     65\u001b[0m env \u001b[38;5;241m=\u001b[39m {}\n\u001b[1;32m     66\u001b[0m \u001b[38;5;28;01mwith\u001b[39;00m \u001b[38;5;28mopen\u001b[39m(path) \u001b[38;5;28;01mas\u001b[39;00m f:\n",
            "File \u001b[0;32m~/Documents/miniforge3/lib/python3.10/site-packages/otter/test_files/metadata_test.py:55\u001b[0m, in \u001b[0;36m_NotebookMetadataTestFileMixin.from_nbmeta_config\u001b[0;34m(cls, path, nbmeta_config, test_name)\u001b[0m\n\u001b[1;32m     53\u001b[0m test_spec \u001b[38;5;241m=\u001b[39m nbmeta_config\u001b[38;5;241m.\u001b[39mtests\n\u001b[1;32m     54\u001b[0m \u001b[38;5;28;01mif\u001b[39;00m test_name \u001b[38;5;129;01mnot\u001b[39;00m \u001b[38;5;129;01min\u001b[39;00m test_spec:\n\u001b[0;32m---> 55\u001b[0m     \u001b[38;5;28;01mraise\u001b[39;00m \u001b[38;5;167;01mValueError\u001b[39;00m(\u001b[38;5;124mf\u001b[39m\u001b[38;5;124m\"\u001b[39m\u001b[38;5;124mTest \u001b[39m\u001b[38;5;132;01m{\u001b[39;00mtest_name\u001b[38;5;132;01m}\u001b[39;00m\u001b[38;5;124m not found\u001b[39m\u001b[38;5;124m\"\u001b[39m)\n\u001b[1;32m     57\u001b[0m test_spec \u001b[38;5;241m=\u001b[39m test_spec[test_name]\n\u001b[1;32m     58\u001b[0m \u001b[38;5;28;01mreturn\u001b[39;00m \u001b[38;5;28mcls\u001b[39m\u001b[38;5;241m.\u001b[39mfrom_metadata(test_spec, path\u001b[38;5;241m=\u001b[39mpath)\n",
            "\u001b[0;31mValueError\u001b[0m: Test sol_w02 not found"
          ]
        }
      ],
      "source": [
        "sum= -0.5 #include this code\n",
        "grader.check('sol_w02')"
      ]
    }
  ],
  "metadata": {
    "anaconda-cloud": {},
    "celltoolbar": "Slideshow",
    "colab": {
      "collapsed_sections": [
        "LSlwyk65biCG"
      ],
      "provenance": []
    },
    "kernelspec": {
      "display_name": "Python 3",
      "language": "python",
      "name": "python3"
    },
    "language_info": {
      "codemirror_mode": {
        "name": "ipython",
        "version": 3
      },
      "file_extension": ".py",
      "mimetype": "text/x-python",
      "name": "python",
      "nbconvert_exporter": "python",
      "pygments_lexer": "ipython3",
      "version": "3.10.12"
    }
  },
  "nbformat": 4,
  "nbformat_minor": 0
}
